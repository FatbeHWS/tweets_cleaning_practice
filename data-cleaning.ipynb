{
 "cells": [
  {
   "cell_type": "code",
   "execution_count": null,
   "metadata": {},
   "outputs": [],
   "source": [
    "import pandas as pd\n",
    "import numpy as nd\n",
    "import os\n",
    "from os import path\n",
    "import re\n",
    "import matplotlib\n",
    "import matplotlib.pyplot as plt\n",
    "import numpy as np\n",
    "from collections import Counter\n",
    "from nltk.corpus import stopwords\n",
    "import glob\n",
    "from matplotlib import font_manager\n",
    "from matplotlib.font_manager import FontProperties\n",
    "from wordcloud import WordCloud, STOPWORDS, ImageColorGenerator\n",
    "from PIL import Image"
   ]
  },
  {
   "cell_type": "code",
   "execution_count": null,
   "metadata": {},
   "outputs": [],
   "source": [
    "path = '../twitter_csv/raw'\n",
    "all_csv = glob.glob(path + \"/*.csv\")\n",
    "temp = []\n",
    "for csv in all_csv:\n",
    "    df = pd.read_csv(csv, encoding='utf-8', low_memory = False)\n",
    "    temp.append(df)\n",
    "raw_df = pd.concat(temp, axis=0, ignore_index=True)"
   ]
  },
  {
   "cell_type": "code",
   "execution_count": null,
   "metadata": {},
   "outputs": [],
   "source": [
    "print((\"Number of tweets before cleaning\", len(raw_df.index)))\n",
    "raw_df = raw_df.drop_duplicates()\n",
    "print((\"Number of unique\", len(raw_df.index)))"
   ]
  },
  {
   "cell_type": "code",
   "execution_count": null,
   "metadata": {},
   "outputs": [],
   "source": [
    "if path.exists(r'../twitter_csv/raw.csv') is False:\n",
    "    raw_df.to_csv(r'../twitter_csv/raw.csv', index = False)"
   ]
  },
  {
   "cell_type": "code",
   "execution_count": null,
   "metadata": {},
   "outputs": [],
   "source": [
    "def stemming(raw_df):\n",
    "    try:\n",
    "        raw_df = raw_df.drop(columns = ['photos', 'timezone', 'place', 'cashtags', 'translate', 'trans_src', 'trans_dest', 'near', 'geo',\n",
    "                          'retweet_date', 'retweet_id', 'user_rt', 'user_rt_id', 'source', 'thumbnail', 'video', 'retweet'\n",
    "                         ,'name', 'replies_count', 'retweets_count', 'likes_count', 'created_at', 'link'])\n",
    "    except:\n",
    "        print(\"Column not found!\")\n",
    "    raw_df['tweet'] = raw_df['tweet'].astype(str).str.lower()\n",
    "\n",
    "    raw_df['tweet'] = raw_df['tweet'].astype(str).str.split()\n",
    "    stop = stopwords.words('english')\n",
    "    # extend the stop words \n",
    "    extra = ['.', '#']\n",
    "    stop = stop + extra\n",
    "    raw_df['tweet'] = raw_df['tweet'].apply(lambda x: [item for item in x if item not in stop])\n",
    "    raw_df[u'tweet'] = raw_df[u'tweet'].astype(str)\n",
    "    return raw_df"
   ]
  }
 ],
 "metadata": {
  "kernelspec": {
   "display_name": "Python 3",
   "language": "python",
   "name": "python3"
  },
  "language_info": {
   "codemirror_mode": {
    "name": "ipython",
    "version": 3
   },
   "file_extension": ".py",
   "mimetype": "text/x-python",
   "name": "python",
   "nbconvert_exporter": "python",
   "pygments_lexer": "ipython3",
   "version": "3.8.5"
  }
 },
 "nbformat": 4,
 "nbformat_minor": 4
}
